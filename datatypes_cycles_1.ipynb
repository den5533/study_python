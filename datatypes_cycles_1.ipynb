{
 "cells": [
  {
   "cell_type": "code",
   "execution_count": 6,
   "metadata": {},
   "outputs": [
    {
     "name": "stdout",
     "output_type": "stream",
     "text": [
      "t\n"
     ]
    }
   ],
   "source": [
    "word = input('Введите слово из латинских букв')\n",
    "if len(word) % 2 == 0:\n",
    "  end = (len(word)/2) + 1\n",
    "  start = (len(word)/2) - 1\n",
    "  update_word = word[int(start):int(end)]\n",
    "  print(update_word)\n",
    "else:\n",
    "  start = (len(word) / 2) \n",
    "  end = (len(word) / 2) + 0.5\n",
    "  print(word[int(start):int(end)])"
   ]
  },
  {
   "cell_type": "code",
   "execution_count": 37,
   "metadata": {},
   "outputs": [
    {
     "name": "stdout",
     "output_type": "stream",
     "text": [
      "Результат 15\n"
     ]
    }
   ],
   "source": [
    "result = 0\n",
    "while True:\n",
    " number = int(input('Введите число'))\n",
    " if number == 0:\n",
    "  print('Результат', result )\n",
    "  break\n",
    " else:\n",
    "    result += number \n",
    "\n"
   ]
  },
  {
   "cell_type": "code",
   "execution_count": 18,
   "metadata": {},
   "outputs": [
    {
     "name": "stdout",
     "output_type": "stream",
     "text": [
      "Alex и Emma\n",
      "Arthur и Kate\n",
      "John и Kira\n",
      "Peter и Liza\n",
      "Richard и Trisha\n"
     ]
    }
   ],
   "source": [
    "boys = ['Peter', 'Alex', 'John', 'Arthur', 'Richard']\n",
    "girls = ['Kate', 'Liza', 'Kira', 'Emma','Trisha']\n",
    "max_len = 0\n",
    "if len(boys) >= len(girls):\n",
    "    max_len = len(boys)\n",
    "else:\n",
    "    max_len = len(girls)\n",
    "sorted_boys = sorted(boys)\n",
    "sorted_girls = sorted(girls)\n",
    "if len(boys) != len(girls):\n",
    "  print('Идеальные пары', )\n",
    "if len(boys) != len(girls):\n",
    "        print('Внимание! Кто-то может остаться без пары.')\n",
    "else:\n",
    "    for i in range(0, max_len, 1):\n",
    "        print(f\"{sorted_boys[i]} и {sorted_girls[i]}\")"
   ]
  },
  {
   "cell_type": "code",
   "execution_count": 19,
   "metadata": {},
   "outputs": [
    {
     "name": "stdout",
     "output_type": "stream",
     "text": [
      "Средняя температура в странах:\n",
      "Таиланд - 23.9 C\n",
      "Германия - 13.8 C\n",
      "Россия - 3.7 C\n",
      "Польша - 12.0 C\n"
     ]
    }
   ],
   "source": [
    "countries_temperature = [\n",
    "    ['Таиланд', [75.2, 77, 78.8, 73.4, 68, 75.2, 77]],\n",
    "    ['Германия', [57.2, 55.4, 59, 59, 53.6]],\n",
    "    ['Россия', [35.6, 37.4, 39.2, 41, 42.8, 39.2, 35.6]],\n",
    "    ['Польша', [50, 50, 53.6, 57.2, 55.4, 55.4]]\n",
    "]\n",
    "\n",
    "print('Средняя температура в странах:')\n",
    "for i in range(0, len(countries_temperature),1 ):\n",
    "    country, temperature = countries_temperature[i]\n",
    "    sum = 0\n",
    "    for j in range(0, len(temperature), 1):\n",
    "        sum += temperature[j]\n",
    "    average_tempF = sum / len(temperature)\n",
    "    average_tempC = (5/9) * (average_tempF - 32)\n",
    "    rounded_avg_tempC = round(average_tempC, 1)\n",
    "    print(f\"{country} - {rounded_avg_tempC} C\")"
   ]
  },
  {
   "cell_type": "code",
   "execution_count": 22,
   "metadata": {},
   "outputs": [
    {
     "name": "stdout",
     "output_type": "stream",
     "text": [
      "Номер H087KC198 валиден. Регион: 198\n",
      "Номер АБ22ВВ193 не валиден\n",
      "Номер H873KC1 не валиден\n"
     ]
    }
   ],
   "source": [
    "car_ids = ['H087KC198', 'АБ22ВВ193', 'H873KC1']\n",
    "letters =['A','B','C','E','H','K','M','O','P','T','X','Y']\n",
    "number =['1','2','3','4','5','6','7','8','9','0'] \n",
    "def check_format(plate):\n",
    "    length = len(plate)\n",
    "    if not((length >= 8) and (length <= 9)):\n",
    "        print(f\"Номер {plate} не валиден\")\n",
    "        return False\n",
    "    \n",
    "    if not(plate[0] in letters):\n",
    "        print(f\"Номер {plate} не валиден\")\n",
    "        return False\n",
    "    \n",
    "    for char in plate[1:4]:\n",
    "        if not(char in number):\n",
    "            print(f\"Номер {plate} не валиден\")\n",
    "            return False\n",
    "    \n",
    "    for char in plate[4:6]:\n",
    "        if not(char in letters):\n",
    "            print(f\"Номер {plate} не валиден\")\n",
    "            return False\n",
    "\n",
    "    for char in plate[6:]:\n",
    "        if not(char in number):\n",
    "            print(f\"Номер {plate} не валиден\")\n",
    "            return False\n",
    "    \n",
    "    print(f\"Номер {plate} валиден. Регион: {plate[6:]}\")\n",
    "    return True\n",
    "\n",
    "\n",
    "for i in range(0,len(car_ids),1):\n",
    "    plate = car_ids[i]\n",
    "    check_format(plate)\n",
    "   \n",
    "\n",
    "    "
   ]
  },
  {
   "cell_type": "code",
   "execution_count": 40,
   "metadata": {},
   "outputs": [
    {
     "name": "stdout",
     "output_type": "stream",
     "text": [
      "Среднее количество просмотров на уникального пользователя: 23.25\n"
     ]
    }
   ],
   "source": [
    "import re\n",
    "stream = [\n",
    "    'user4,2021-01-01;3',\n",
    "    'user3,2022-01-07;4',\n",
    "    'user2,2022-03-29;1',\n",
    "    'user1,2020-04-04;13',\n",
    "    'user2,2022-01-05;7',\n",
    "    'user1,2021-06-14;4',\n",
    "    'user3,2022-07-02;10',\n",
    "    'user4,2021-03-21;19',\n",
    "    'user4,2022-03-22;4',\n",
    "    'user4,2022-04-22;8',\n",
    "    'user4,2021-05-03;9',\n",
    "    'user4,2022-05-11;11'\n",
    "]\n",
    "def calculate_average_views(stream):\n",
    "    user_pattern = r'(\\w+),\\d{4}-\\d{2}-\\d{2};(\\d+)'\n",
    "    total_views = 0\n",
    "    unique_users = set()\n",
    "\n",
    "    for m in stream:\n",
    "        match = re.match(user_pattern, m)\n",
    "        if match:\n",
    "            user = match.group(1)\n",
    "            views = int(match.group(2))\n",
    "            total_views += views\n",
    "            unique_users.add(user)\n",
    "\n",
    "    if len(unique_users) == 0:\n",
    "        return 0\n",
    "\n",
    "    average_views = total_views / len(unique_users)\n",
    "    return average_views\n",
    "\n",
    "average_views = calculate_average_views(stream)\n",
    "print(f\"Среднее количество просмотров на уникального пользователя: {average_views:.2f}\")"
   ]
  }
 ],
 "metadata": {
  "kernelspec": {
   "display_name": "Python 3",
   "language": "python",
   "name": "python3"
  },
  "language_info": {
   "codemirror_mode": {
    "name": "ipython",
    "version": 3
   },
   "file_extension": ".py",
   "mimetype": "text/x-python",
   "name": "python",
   "nbconvert_exporter": "python",
   "pygments_lexer": "ipython3",
   "version": "3.11.9"
  }
 },
 "nbformat": 4,
 "nbformat_minor": 2
}
