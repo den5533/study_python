{
 "cells": [
  {
   "cell_type": "code",
   "execution_count": 14,
   "metadata": {},
   "outputs": [
    {
     "name": "stdout",
     "output_type": "stream",
     "text": [
      "Фраза 2 длиннее фразы 1\n"
     ]
    }
   ],
   "source": [
    "#Даны 2 переменных, в которых хранятся строки произвольной длины: phrase_1 и phrase_2.Напишите код, который проверяет какая из этих строк длиннее.\n",
    "a= '640Кб должно хватить для любых задач. Билл Гейтс (по легенде)'\n",
    "b= '640Кб должно хватить для любых задач. Билл Гейтс (по легенде)'\n",
    "if len (a) > len(b):\n",
    "  print ('Фраза 1 длиннее фразы 2')\n",
    "elif len (a) < len(b):\n",
    "  print ('Фраза 2 длиннее фразы 1')\n",
    "elif len (a) == len(b):\n",
    "  print ('Фразы равной длины')"
   ]
  },
  {
   "cell_type": "code",
   "execution_count": 34,
   "metadata": {},
   "outputs": [
    {
     "name": "stdout",
     "output_type": "stream",
     "text": [
      "Висакосный год\n"
     ]
    }
   ],
   "source": [
    "#Дана переменная, в которой хранится число (год). Необходимо написать программу, которая выведет, является ли данный год високосным или обычным.\n",
    "year = int(input())\n",
    "if year % 4 == 0:\n",
    "    print('Обычный год')\n",
    "else:\n",
    "    print('Висакосный год')"
   ]
  },
  {
   "cell_type": "code",
   "execution_count": 18,
   "metadata": {},
   "outputs": [
    {
     "name": "stdout",
     "output_type": "stream",
     "text": [
      "Скорпион\n"
     ]
    }
   ],
   "source": [
    "#Необходимо написать программу, которая будет запрашивать у пользователя месяц и дату рождения и выводить соответствующий знак зодиака.\n",
    "day = int(input(\"Введите день: \"))\n",
    "month = input(\"Введите месяц: \")\n",
    "if month == \"январь\":\n",
    "    if day <= 19:\n",
    "        print(\"Козерог\")\n",
    "    else:\n",
    "        print(\"Водолей\")\n",
    "elif month == \"февраль\":\n",
    "    if day <= 18:\n",
    "        print(\"Водолей\")\n",
    "    else:\n",
    "        print(\"Рыбы\")\n",
    "elif month == \"март\":\n",
    "    if day <= 20:\n",
    "        print(\"Рыбы\")\n",
    "    else:\n",
    "        print(\"Овен\")\n",
    "elif month == \"апрель\":\n",
    "    if day <= 19:\n",
    "        print(\"Овен\")\n",
    "    else:\n",
    "        print(\"Телец\")\n",
    "elif month == \"май\":\n",
    "    if day <= 20:\n",
    "        print(\"Телец\")\n",
    "    else:\n",
    "        print(\"Близнецы\")\n",
    "elif month == \"июнь\":\n",
    "    if day <= 20:\n",
    "        print(\"Близнецы\")\n",
    "    else:\n",
    "        print(\"Рак\")\n",
    "elif month == \"июль\":\n",
    "    if day <= 22:\n",
    "        print(\"Рак\")\n",
    "    else:\n",
    "        print(\"Лев\")\n",
    "elif month == \"август\":\n",
    "    if day <= 22:\n",
    "        print(\"Лев\")\n",
    "    else:\n",
    "        print(\"Дева\")\n",
    "elif month == \"сентябрь\":\n",
    "    if day <= 22:\n",
    "        print(\"Дева\")\n",
    "    else:\n",
    "        print(\"Весы\")\n",
    "elif month == \"октябрь\":\n",
    "    if day <= 22:\n",
    "        print(\"Весы\")\n",
    "    else:\n",
    "        print(\"Скорпион\")\n",
    "elif month == \"ноябрь\":\n",
    "    if day <= 21:\n",
    "        print(\"Скорпион\")\n",
    "    else:\n",
    "        print(\"Стрелец\")\n",
    "elif month == \"декабрь\":\n",
    "    if day <= 21:\n",
    "        print(\"Стрелец\")\n",
    "    else:\n",
    "        print(\"Козерог\")\n",
    "else:\n",
    "    print(\"Неправильный месяц\")\n"
   ]
  },
  {
   "cell_type": "code",
   "execution_count": 33,
   "metadata": {},
   "outputs": [
    {
     "name": "stdout",
     "output_type": "stream",
     "text": [
      "Упаковка для лыж\n"
     ]
    }
   ],
   "source": [
    "#Вам нужно написать программу для подбора упаковок по размерам товара. Размеры (ширина, длина, высота) хранятся в переменных (в сантиметрах):\n",
    "width = 13\n",
    "length = 13\n",
    "height = 215\n",
    "if width <= 15 and length <= 15 and height <= 15:\n",
    "  print('Коробка 1')\n",
    "elif 15 < width < 50 or 15 < length < 50 or  15 < height < 50 :\n",
    "  print('Коробка 2')\n",
    "elif width> 200 or length > 200 or height > 200:\n",
    "  print('Упаковка для лыж')\n",
    "else:\n",
    "  print('Коробка 3')"
   ]
  },
  {
   "cell_type": "code",
   "execution_count": 11,
   "metadata": {},
   "outputs": [
    {
     "name": "stdout",
     "output_type": "stream",
     "text": [
      "Счстливый билет\n"
     ]
    }
   ],
   "source": [
    "#ана переменная, в которой хранится шестизначное число (номер проездного билета). Напишите программу, которая будет определять, является ли данный билет \"счастливым\". Билет считается счастливым, если сумма первых трех цифр совпадает с суммой последних трех цифр номера.\n",
    "number = 'abcdfg'\n",
    "a = int(input('Введите значение'))\n",
    "b = int(input('Введите значение'))\n",
    "c = int(input('Введите значение'))\n",
    "d = int(input('Введите значение'))\n",
    "f = int(input('Введите значение'))\n",
    "g = int(input('Введите значение'))\n",
    "m = a+b+c\n",
    "n = d+f+g\n",
    "if m==n:\n",
    "  print('Счстливый билет')\n",
    "else:\n",
    "  print('Несчстливый билет')"
   ]
  },
  {
   "cell_type": "code",
   "execution_count": 18,
   "metadata": {},
   "outputs": [
    {
     "name": "stdout",
     "output_type": "stream",
     "text": [
      "Площадь круга: 28.26\n"
     ]
    }
   ],
   "source": [
    "#Напишите программу, которая сможет вычислять площади трех фигур (круг, треугольник и прямоугольник). Тип фигуры запрашиваем через пользовательский ввод, после чего делаем запрос характеристик фигуры:\n",
    "figure = input('Введите фигуру')\n",
    "if figure == \"круг\":\n",
    "  r = int(input('Введите радиус'))\n",
    "  S = 3.14*r**2\n",
    "  print ('Площадь круга:', S)\n",
    "elif figure == \"треугольник\":\n",
    "  a = int(input('Введите длину'))\n",
    "  b = int(input('Введите высоту'))\n",
    "  S = 0.5*a*b\n",
    "  print ('Площадь треугольника:', S)\n",
    "elif figure == \"прямоугольник\": \n",
    "  a = int(input('Введите длину'))\n",
    "  b = int(input('Введите ширину'))\n",
    "  S = a*b\n",
    "  print ('Площадь прямоугольника:' , S)"
   ]
  }
 ],
 "metadata": {
  "kernelspec": {
   "display_name": "Python 3",
   "language": "python",
   "name": "python3"
  },
  "language_info": {
   "codemirror_mode": {
    "name": "ipython",
    "version": 3
   },
   "file_extension": ".py",
   "mimetype": "text/x-python",
   "name": "python",
   "nbconvert_exporter": "python",
   "pygments_lexer": "ipython3",
   "version": "3.11.9"
  }
 },
 "nbformat": 4,
 "nbformat_minor": 2
}
