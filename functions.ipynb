{
 "cells": [
  {
   "cell_type": "code",
   "execution_count": 149,
   "metadata": {},
   "outputs": [
    {
     "name": "stdout",
     "output_type": "stream",
     "text": [
      "Введите команду: ds\n",
      "Такой полки не существует. Текущий перечень полок: 1, 2, 3.\n"
     ]
    }
   ],
   "source": [
    "documents = [\n",
    "    {'type': 'passport', 'number': '2207 876234', 'name': 'Василий Гупкин'},\n",
    "    {'type': 'invoice', 'number': '11-2', 'name': 'Геннадий Покемонов'},\n",
    "    {'type': 'insurance', 'number': '10006', 'name': 'Аристарх Павлов'}\n",
    "]\n",
    "directories = {\n",
    "    '1': ['2207 876234', '11-2'],\n",
    "    '2': ['10006'],\n",
    "    '3': []\n",
    "}\n",
    "choice = input('Введите команду: ')\n",
    "print('Введите команду:',choice)\n",
    "def on_button_press():\n",
    "    if choice == 'p':\n",
    "        number= input()\n",
    "        print('Введите номер документа:', number)\n",
    "        for document in documents:\n",
    "            if document['number'] == number:\n",
    "                print('Владелец документа:' + document['name'])\n",
    "                return\n",
    "        else:\n",
    "            print('Документ не найден в базе данных.')\n",
    "\n",
    "    elif choice == 's':\n",
    "        number = input()\n",
    "        print('Введите номер документа:',number )\n",
    "        found = False\n",
    "        for shelf, doc_numbers in directories.items():\n",
    "            if number in doc_numbers:\n",
    "                print('Документ хранится на полке:', shelf)\n",
    "                found = True\n",
    "                break\n",
    "                \n",
    "        if not found:\n",
    "            print('Документ не найден в базе.')\n",
    "\n",
    "    if choice == 'l':\n",
    "        for all_data in documents:\n",
    "            for item, values in directories.items():\n",
    "                if all_data['number'] in values:\n",
    "                    print('№ ' + all_data['number'] + ', тип: ' + all_data['type'] + ', владелец: ' + all_data['name'] + ', полка хранения: ' + item)\n",
    "    elif choice == 'ads':\n",
    "        shelf_number = input('Введите номер полки: ')\n",
    "        if shelf_number in directories:\n",
    "            print(f'Такая полка уже существует. Текущий перечень полок: {\", \".join(directories.keys())}.')\n",
    "        else:\n",
    "            directories[shelf_number] = []\n",
    "            print(f'Полка добавлена. Текущий перечень полок: {\", \".join(directories.keys())}.')\n",
    "    \n",
    "\n",
    "    elif choice == 'ds':\n",
    "        shelf_number = input('Введите номер полки: ')\n",
    "        if shelf_number not in directories:\n",
    "            print(f'Такой полки не существует. Текущий перечень полок: {\", \".join(directories.keys())}.')\n",
    "        elif directories[shelf_number]:\n",
    "            print(f'На полке есть документы, удалите их перед удалением полки. Текущий перечень полок: {\", \".join(directories.keys())}.')\n",
    "        else:\n",
    "            del directories[shelf_number]\n",
    "            print(f'Полка удалена. Текущий перечень полок: {\", \".join(directories.keys())}.')\n",
    "\n",
    "\n",
    "    else:\n",
    "        print('Такой команды нет.')\n",
    "on_button_press() "
   ]
  },
  {
   "cell_type": "code",
   "execution_count": null,
   "metadata": {},
   "outputs": [],
   "source": []
  }
 ],
 "metadata": {
  "kernelspec": {
   "display_name": "Python 3",
   "language": "python",
   "name": "python3"
  },
  "language_info": {
   "codemirror_mode": {
    "name": "ipython",
    "version": 3
   },
   "file_extension": ".py",
   "mimetype": "text/x-python",
   "name": "python",
   "nbconvert_exporter": "python",
   "pygments_lexer": "ipython3",
   "version": "3.11.9"
  }
 },
 "nbformat": 4,
 "nbformat_minor": 2
}
