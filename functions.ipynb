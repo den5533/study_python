{
 "cells": [
  {
   "cell_type": "code",
   "execution_count": 75,
   "metadata": {},
   "outputs": [
    {
     "ename": "TypeError",
     "evalue": "on_button_press() missing 1 required positional argument: 'p'",
     "output_type": "error",
     "traceback": [
      "\u001b[1;31m---------------------------------------------------------------------------\u001b[0m",
      "\u001b[1;31mTypeError\u001b[0m                                 Traceback (most recent call last)",
      "Cell \u001b[1;32mIn[75], line 22\u001b[0m\n\u001b[0;32m     20\u001b[0m     \u001b[38;5;28mprint\u001b[39m(\u001b[38;5;124m'\u001b[39m\u001b[38;5;124mДокумент не найден в базе данных.\u001b[39m\u001b[38;5;124m'\u001b[39m)\n\u001b[0;32m     21\u001b[0m     \u001b[38;5;28;01mreturn\u001b[39;00m p\n\u001b[1;32m---> 22\u001b[0m \u001b[43mon_button_press\u001b[49m\u001b[43m(\u001b[49m\u001b[43m)\u001b[49m   \n",
      "\u001b[1;31mTypeError\u001b[0m: on_button_press() missing 1 required positional argument: 'p'"
     ]
    }
   ],
   "source": [
    "documents = [\n",
    "    {'type': 'passport', 'number': '2207 876234', 'name': 'Василий Гупкин'},\n",
    "    {'type': 'invoice', 'number': '11-2', 'name': 'Геннадий Покемонов'},\n",
    "    {'type': 'insurance', 'number': '10006', 'name': 'Аристарх Павлов'}\n",
    "]\n",
    "directories = {\n",
    "    '1': ['2207 876234', '11-2'],\n",
    "    '2': ['10006'],\n",
    "    '3': []\n",
    "}\n",
    "def on_button_press(p):\n",
    "    print(p)\n",
    "    for p in documents:\n",
    "      p= int(input())\n",
    "      print('Введите номер документа:')\n",
    "      if num in directories.items():\n",
    "         num = directories['']\n",
    "      print(f\"Владелец документа:{documents['name']}\")\n",
    "      return num \n",
    "    print('Документ не найден в базе данных.')\n",
    "    return p\n",
    "   "
   ]
  },
  {
   "cell_type": "code",
   "execution_count": 91,
   "metadata": {},
   "outputs": [
    {
     "name": "stdout",
     "output_type": "stream",
     "text": [
      "Введите команду: p\n",
      "Введите номер документа:\n",
      "2207 876234\n",
      "Владелец документа:Василий Гупкин\n"
     ]
    },
    {
     "data": {
      "text/plain": [
       "'Василий Гупкин'"
      ]
     },
     "execution_count": 91,
     "metadata": {},
     "output_type": "execute_result"
    }
   ],
   "source": [
    "documents = [\n",
    "    {'type': 'passport', 'number': '2207 876234', 'name': 'Василий Гупкин'},\n",
    "    {'type': 'invoice', 'number': '11-2', 'name': 'Геннадий Покемонов'},\n",
    "    {'type': 'insurance', 'number': '10006', 'name': 'Аристарх Павлов'}\n",
    "]\n",
    "directories = {\n",
    "    '1': ['2207 876234', '11-2'],\n",
    "    '2': ['10006'],\n",
    "    '3': []\n",
    "}\n",
    "def on_button_press():\n",
    "  m=input()\n",
    "  print('Введите команду:', m)\n",
    "  number= input()\n",
    "  print('Введите номер документа:', number)\n",
    "  for document in documents:\n",
    "      if document['number'] == number:\n",
    "        print(f\"Владелец документа:{document['name']}\")\n",
    "      return document['name']\n",
    "  else:\n",
    "      print('Документ не найден в базе данных.')\n",
    "  \n",
    "\n",
    "on_button_press()\n",
    "  "
   ]
  },
  {
   "cell_type": "code",
   "execution_count": 33,
   "metadata": {},
   "outputs": [],
   "source": [
    "\n",
    "def owner(number_doc):\n",
    "    \"\"\"\n",
    "    Функция возвращает по номеру документа данные о его владельце\n",
    "    \"\"\"\n",
    "    owner_name = ''\n",
    "    for row in documents:\n",
    "        if row['number'] == number_doc:\n",
    "            owner_name = 'Владелец документа: ' + row['name']\n",
    "    if owner_name == '': \n",
    "        owner_name = 'Документ не найден в базе'\n",
    "    return owner_name"
   ]
  },
  {
   "cell_type": "code",
   "execution_count": 67,
   "metadata": {},
   "outputs": [
    {
     "name": "stdout",
     "output_type": "stream",
     "text": [
      "Введите номер документа:\n",
      "Документ не найден в базе данных.\n"
     ]
    }
   ],
   "source": [
    "documents = [ \n",
    "    {'type': 'passport', 'number': '2207 876234', 'name': 'Василий Гупкин'}, \n",
    "    {'type': 'invoice', 'number': '11-2', 'name': 'Геннадий Покемонов'}, \n",
    "    {'type': 'insurance', 'number': '10006', 'name': 'Аристарх Павлов'} \n",
    "] \n",
    "\n",
    "def on_button_press():\n",
    "    print('Введите номер документа:')\n",
    "    doc_number = input().strip()\n",
    "    for document in documents:\n",
    "        if document['number'] == doc_number:\n",
    "            print(f\"Владелец документа: {document['name']}\")\n",
    "            return document['name']\n",
    "    print('Документ не найден в базе данных.')\n",
    "    \n",
    "\n",
    "# Вызов функции\n",
    "on_button_press()"
   ]
  },
  {
   "cell_type": "code",
   "execution_count": null,
   "metadata": {},
   "outputs": [],
   "source": []
  }
 ],
 "metadata": {
  "kernelspec": {
   "display_name": "Python 3",
   "language": "python",
   "name": "python3"
  },
  "language_info": {
   "codemirror_mode": {
    "name": "ipython",
    "version": 3
   },
   "file_extension": ".py",
   "mimetype": "text/x-python",
   "name": "python",
   "nbconvert_exporter": "python",
   "pygments_lexer": "ipython3",
   "version": "3.11.9"
  }
 },
 "nbformat": 4,
 "nbformat_minor": 2
}
